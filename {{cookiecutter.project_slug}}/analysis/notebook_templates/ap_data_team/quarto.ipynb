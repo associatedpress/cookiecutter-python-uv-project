{
 "cells": [
  {
   "cell_type": "raw",
   "id": "c250529d-3381-4cf1-b9e1-da590fa12691",
   "metadata": {},
   "source": [
    "---\n",
    "title: \"\"\n",
    "author: Chris Keller (ckeller@ap.org)\"\n",
    "abstract: \"\"\n",
    "date: now\n",
    "execute:\n",
    "  echo: false\n",
    "format-links: false\n",
    "output:\n",
    "  html_document:\n",
    "    fig_width: 8\n",
    "    highlight: haddock\n",
    "    keep_md: false\n",
    "    theme: cerulean\n",
    "    toc: yes\n",
    "    toc_float:\n",
    "      collapsed: false\n",
    "---\n"
   ]
  },
  {
   "cell_type": "code",
   "execution_count": 1,
   "id": "5a5a737a-2729-4624-8df3-c3d01c60e0ab",
   "metadata": {
    "vscode": {
     "languageId": "python"
    }
   },
   "outputs": [],
   "source": [
    "from plotnine import *\n",
    "import pandas as pd\n",
    "import numpy as np\n",
    "import itables\n",
    "from IPython.display import Markdown as md\n",
    "from IPython.display import display, HTML\n",
    "from datetime import datetime\n",
    "import logging\n",
    "import os\n",
    "import sys\n",
    "\n",
    "# import etl.env"
   ]
  },
  {
   "cell_type": "code",
   "execution_count": null,
   "id": "15bac761",
   "metadata": {
    "vscode": {
     "languageId": "python"
    }
   },
   "outputs": [],
   "source": [
    "HTML(\n",
    "    \"\"\"\n",
    "<style>\n",
    "    canvas.marks { display: block; margin: auto; }\n",
    "    div.vega-embed { width: 100%; }\n",
    "</style>\n",
    "\"\"\"\n",
    ")"
   ]
  },
  {
   "cell_type": "code",
   "execution_count": null,
   "metadata": {
    "vscode": {
     "languageId": "python"
    }
   },
   "outputs": [],
   "source": [
    "# plotnine theme variables\n",
    "# p9_color = \"#117da5\"\n",
    "# p9_font = \"sans-serif\"\n",
    "# p9_point = 5\n",
    "# p9_title = 25\n",
    "# p9_axis_label = 16\n",
    "# p9_axis_text = 10\n",
    "# p9_fig_hg = theme(figure_size=(12.8, 14.4))\n",
    "# p9_fig_lg = theme(figure_size=(12.8, 9.6))\n",
    "# p9_fig_md = theme(figure_size=(12.8, 4.8))\n",
    "# p9_fig_sm = theme(figure_size=(12.8, 2.4))\n",
    "# p9_theme = theme_light(base_size=15, base_family=p9_font) + theme(\n",
    "#     plot_title=element_text(size=p9_title, face=\"bold\"),\n",
    "#     axis_title=element_text(size=p9_axis_label, face=\"italic\"),\n",
    "#     axis_text=element_text(size=p9_axis_text),\n",
    "# )"
   ]
  },
  {
   "cell_type": "code",
   "execution_count": null,
   "metadata": {
    "vscode": {
     "languageId": "python"
    }
   },
   "outputs": [],
   "source": [
    "logger = logging.getLogger(\"root\")\n",
    "logging.basicConfig(\n",
    "    format=\"\\033[1;36m(def %(funcName)s %(lineno)s): \\033[1;37m %(message)s\",\n",
    "    level=logging.INFO,\n",
    ")\n",
    "\n",
    "# let's display at least 100 rows by default\n",
    "pd.set_option(\"display.max_rows\", 1000)\n",
    "\n",
    "# let's display at least 100 columns by default\n",
    "pd.set_option(\"display.max_columns\", 1000)\n",
    "\n",
    "# get today's date\n",
    "CURRENT_DAY = datetime.today().strftime(\"%b. %-d, %Y\")\n",
    "\n",
    "# get the current month\n",
    "CURRENT_MONTH = datetime.now().strftime(\"%B\")\n",
    "\n",
    "# get the current year\n",
    "CURRENT_YEAR = datetime.now().year"
   ]
  },
  {
   "cell_type": "code",
   "execution_count": null,
   "id": "3420cd54",
   "metadata": {
    "vscode": {
     "languageId": "python"
    }
   },
   "outputs": [],
   "source": [
    "def generate_summary(df, grouper, aggregate):\n",
    "    \"\"\"\n",
    "    Given a dataframe and a column\n",
    "    to group by, outputs topline summary\n",
    "    stats for each column to group by in a year\n",
    "    \"\"\"\n",
    "\n",
    "    # get a list of the unique values in a dataframe column\n",
    "    values_list = df[aggregate].unique()\n",
    "\n",
    "    # create a holding container\n",
    "    output_data = []\n",
    "\n",
    "    # loop through our list\n",
    "    for value in values_list:\n",
    "\n",
    "        # create a holding dictionary\n",
    "        output = {}\n",
    "\n",
    "        # isolate for the value\n",
    "        iso_df = df.query(f\"{aggregate} == '{value}'\").reindex()\n",
    "\n",
    "        # get a count for each month\n",
    "        grouped = iso_df.groupby(grouper).agg(stat=(aggregate, \"count\")).reset_index()\n",
    "\n",
    "        # this is the month\n",
    "        output[\"value\"] = value\n",
    "\n",
    "        # find the overall count\n",
    "        output[\"count\"] = grouped.sum()[\"stat\"]\n",
    "\n",
    "        # find the mean\n",
    "        output[\"mean\"] = grouped.mean()[\"stat\"]\n",
    "\n",
    "        # find the median\n",
    "        output[\"median\"] = grouped.median()[\"stat\"]\n",
    "\n",
    "        # find the minimum value\n",
    "        output[\"min\"] = grouped.min()[\"stat\"]\n",
    "\n",
    "        # find the year corresponding to the minimum value\n",
    "        min_year = grouped[grouped[\"stat\"] == output[\"min\"]][grouper].values\n",
    "\n",
    "        # store the year in the output dictionary\n",
    "        output[\"min_year\"] = \",\".join([str(i) for i in min_year])\n",
    "\n",
    "        # find the maximum value\n",
    "        output[\"max\"] = grouped.max()[\"stat\"]\n",
    "\n",
    "        # find the year corresponding to the minimum value\n",
    "        max_year = grouped[grouped[\"stat\"] == output[\"max\"]][grouper].values\n",
    "\n",
    "        # store the year in the output dictionary\n",
    "        output[\"max_year\"] = \",\".join([str(i) for i in max_year])\n",
    "\n",
    "        # append to our holding container\n",
    "        output_data.append(output)\n",
    "\n",
    "    # convert the list to a dataframe\n",
    "    summary_stats = pd.DataFrame(output_data)\n",
    "\n",
    "    # return the dataframe\n",
    "    return summary_stats.sort_values(by=\"value\", ascending=False)"
   ]
  },
  {
   "cell_type": "code",
   "execution_count": null,
   "metadata": {
    "vscode": {
     "languageId": "python"
    }
   },
   "outputs": [],
   "source": [
    "# build the file path\n",
    "ANALYSIS_FILE = os.path.join(\"\", \"\")\n",
    "\n",
    "# open the file in a dataframe\n",
    "df = pd.read_csv(\n",
    "    ANALYSIS_FILE,\n",
    "    low_memory=False,\n",
    "    encoding=\"ISO-8859-1\",\n",
    ")"
   ]
  }
 ],
 "metadata": {
  "jupytext": {
   "formats": "ipynb,Rmd"
  },
  "kernelspec": {
   "display_name": "",
   "name": ""
  },
  "language_info": {
   "name": ""
  }
 },
 "nbformat": 4,
 "nbformat_minor": 5
}
